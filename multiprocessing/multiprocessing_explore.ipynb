{
 "cells": [
  {
   "cell_type": "code",
   "execution_count": 1,
   "metadata": {},
   "outputs": [],
   "source": [
    "import datetime\n",
    "import time\n",
    "import multiprocessing\n",
    "import queue\n",
    "import random"
   ]
  },
  {
   "cell_type": "code",
   "execution_count": 2,
   "metadata": {},
   "outputs": [],
   "source": [
    "def print_label_and_sleep(lab, stime, p_q):\n",
    "    sleep_time = random.randint(1, stime)\n",
    "    rand_num = random.randint(50, 60)\n",
    "    r2 = random.randint(60, 70)\n",
    "    r3 = random.randint(70, 80)\n",
    "    print(f'Printing {lab} and sleeping {str(sleep_time)}')\n",
    "    time.sleep(sleep_time)\n",
    "    print(f'{lab} done sleeping.')\n",
    "    p_q.put(sleep_time)\n",
    "    p_q.put(rand_num)\n",
    "    p_q.put(r2)\n",
    "    p_q.put(r3)"
   ]
  },
  {
   "cell_type": "code",
   "execution_count": 3,
   "metadata": {},
   "outputs": [],
   "source": [
    "labels = [\n",
    "    'label1', \n",
    "    'label2', \n",
    "    'label3', \n",
    "    'label4', \n",
    "    'label5', \n",
    "    'label6', \n",
    "    'label7', \n",
    "    'label8', \n",
    "    'label9', \n",
    "    'label10', \n",
    "    'label11', \n",
    "    'label12', \n",
    "    'label13', \n",
    "    'label14', \n",
    "    'label15'\n",
    "]"
   ]
  },
  {
   "cell_type": "code",
   "execution_count": 4,
   "metadata": {
    "scrolled": false
   },
   "outputs": [
    {
     "name": "stdout",
     "output_type": "stream",
     "text": [
      "['label1', 'label2', 'label3', 'label4']\n",
      "Printing label1 and sleeping 1\n",
      "Printing label2 and sleeping 5\n",
      "Printing label3 and sleeping 9\n",
      "Printing label4 and sleeping 4\n",
      "label1 done sleeping.\n",
      "label4 done sleeping.\n",
      "label2 done sleeping.\n",
      "label3 done sleeping.\n",
      "['label5', 'label6', 'label7', 'label8']\n",
      "Printing label5 and sleeping 6\n",
      "Printing label6 and sleeping 7\n",
      "Printing label7 and sleeping 2\n",
      "Printing label8 and sleeping 10\n",
      "label7 done sleeping.\n",
      "label5 done sleeping.\n",
      "label6 done sleeping.\n",
      "label8 done sleeping.\n",
      "['label9', 'label10', 'label11', 'label12']\n",
      "Printing label9 and sleeping 1\n",
      "Printing label10 and sleeping 8\n",
      "Printing label11 and sleeping 10\n",
      "Printing label12 and sleeping 9\n",
      "label9 done sleeping.\n",
      "label10 done sleeping.\n",
      "label12 done sleeping.\n",
      "label11 done sleeping.\n",
      "['label13', 'label14', 'label15']\n",
      "Printing label13 and sleeping 3\n",
      "Printing label14 and sleeping 7\n",
      "Printing label15 and sleeping 10\n",
      "label13 done sleeping.\n",
      "label14 done sleeping.\n",
      "label15 done sleeping.\n"
     ]
    }
   ],
   "source": [
    "temp_list = labels.copy()\n",
    "\n",
    "proc_queue = multiprocessing.Queue()\n",
    "\n",
    "sleep_list = []\n",
    "int_list = []\n",
    "i2_list = []\n",
    "i3_list = []\n",
    "\n",
    "while len(temp_list) > 0:\n",
    "    small_list = []\n",
    "    for l in temp_list[:4]:\n",
    "        temp_list.remove(l)\n",
    "        small_list.append(l)\n",
    "\n",
    "    print(small_list)\n",
    "    \n",
    "    jobs = []\n",
    "    \n",
    "    for lab in small_list:\n",
    "        jobs.append(multiprocessing.Process(target=print_label_and_sleep, args=(lab, 10, proc_queue)))\n",
    "\n",
    "    for job in jobs:\n",
    "        job.start()\n",
    "        \n",
    "    for job in jobs:\n",
    "        job.join()\n",
    "        sleep_list.append(proc_queue.get())\n",
    "        int_list.append(proc_queue.get())\n",
    "        i2_list.append(proc_queue.get())\n",
    "        i3_list.append(proc_queue.get())"
   ]
  },
  {
   "cell_type": "code",
   "execution_count": 5,
   "metadata": {},
   "outputs": [
    {
     "data": {
      "text/plain": [
       "[1, 4, 5, 9, 2, 6, 7, 10, 1, 8, 9, 10, 3, 7, 10]"
      ]
     },
     "execution_count": 5,
     "metadata": {},
     "output_type": "execute_result"
    }
   ],
   "source": [
    "sleep_list"
   ]
  },
  {
   "cell_type": "code",
   "execution_count": 6,
   "metadata": {},
   "outputs": [
    {
     "data": {
      "text/plain": [
       "[60, 58, 55, 53, 54, 53, 56, 57, 54, 60, 53, 58, 52, 54, 55]"
      ]
     },
     "execution_count": 6,
     "metadata": {},
     "output_type": "execute_result"
    }
   ],
   "source": [
    "int_list"
   ]
  },
  {
   "cell_type": "code",
   "execution_count": 7,
   "metadata": {},
   "outputs": [
    {
     "data": {
      "text/plain": [
       "[65, 68, 64, 67, 68, 65, 63, 62, 62, 60, 69, 63, 61, 63, 67]"
      ]
     },
     "execution_count": 7,
     "metadata": {},
     "output_type": "execute_result"
    }
   ],
   "source": [
    "i2_list"
   ]
  },
  {
   "cell_type": "code",
   "execution_count": 8,
   "metadata": {},
   "outputs": [
    {
     "data": {
      "text/plain": [
       "[70, 80, 71, 75, 78, 80, 77, 72, 71, 72, 78, 73, 74, 76, 75]"
      ]
     },
     "execution_count": 8,
     "metadata": {},
     "output_type": "execute_result"
    }
   ],
   "source": [
    "i3_list"
   ]
  },
  {
   "cell_type": "code",
   "execution_count": null,
   "metadata": {},
   "outputs": [],
   "source": []
  }
 ],
 "metadata": {
  "kernelspec": {
   "display_name": "Python 3",
   "language": "python",
   "name": "python3"
  },
  "language_info": {
   "codemirror_mode": {
    "name": "ipython",
    "version": 3
   },
   "file_extension": ".py",
   "mimetype": "text/x-python",
   "name": "python",
   "nbconvert_exporter": "python",
   "pygments_lexer": "ipython3",
   "version": "3.7.2"
  }
 },
 "nbformat": 4,
 "nbformat_minor": 2
}
